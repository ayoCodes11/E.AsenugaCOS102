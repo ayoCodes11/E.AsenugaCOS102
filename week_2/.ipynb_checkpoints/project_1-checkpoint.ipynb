{
 "cells": [
  {
   "cell_type": "code",
   "execution_count": 1,
   "id": "7f485e84-fd1a-48ec-97ab-8e0dc213f980",
   "metadata": {},
   "outputs": [
    {
     "name": "stdin",
     "output_type": "stream",
     "text": [
      "Enter first person's name:  Name\n",
      "Enter first person's age:  12\n",
      "Enter second person's name:  Name2\n",
      "Enter second person's age:  21\n"
     ]
    },
    {
     "name": "stdout",
     "output_type": "stream",
     "text": [
      "\n",
      "After swapping:\n",
      "Name is now 21 years old\n",
      "Name2 is now 12 years old\n"
     ]
    }
   ],
   "source": [
    "name1 = input(\"Enter first person's name: \")\n",
    "age1 = int(input(\"Enter first person's age: \"))\n",
    "\n",
    "name2 = input(\"Enter second person's name: \")\n",
    "age2 = int(input(\"Enter second person's age: \"))\n",
    "\n",
    "age1, age2 = age2, age1\n",
    "\n",
    "print(\"\\nAfter swapping:\")\n",
    "print(f\"{name1} is now {age1} years old\")\n",
    "print(f\"{name2} is now {age2} years old\")\n"
   ]
  },
  {
   "cell_type": "code",
   "execution_count": null,
   "id": "7baadc7a-898c-472f-bd2d-cea4a8bce39f",
   "metadata": {},
   "outputs": [],
   "source": []
  }
 ],
 "metadata": {
  "kernelspec": {
   "display_name": "Python [conda env:base] *",
   "language": "python",
   "name": "conda-base-py"
  },
  "language_info": {
   "codemirror_mode": {
    "name": "ipython",
    "version": 3
   },
   "file_extension": ".py",
   "mimetype": "text/x-python",
   "name": "python",
   "nbconvert_exporter": "python",
   "pygments_lexer": "ipython3",
   "version": "3.12.7"
  }
 },
 "nbformat": 4,
 "nbformat_minor": 5
}
