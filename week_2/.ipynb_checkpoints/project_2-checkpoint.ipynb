{
 "cells": [
  {
   "cell_type": "code",
   "execution_count": 23,
   "id": "4ebde2da-174a-4d03-b06f-65041d39766e",
   "metadata": {},
   "outputs": [
    {
     "name": "stdout",
     "output_type": "stream",
     "text": [
      "1. Solve Quadratic Equation\n",
      "2. Solve Cubic Equation\n",
      "3. Solve Quartic Equation\n",
      "4. Exit\n"
     ]
    },
    {
     "name": "stdin",
     "output_type": "stream",
     "text": [
      "Choose an option (1-4):  4\n"
     ]
    },
    {
     "name": "stdout",
     "output_type": "stream",
     "text": [
      "Bye bye!\n"
     ]
    }
   ],
   "source": [
    "#### import numpy as np\n",
    "\n",
    "def solve_quadratic():\n",
    "    print(\"\\nQuadratic Equation: Ax² + Bx + C = 0\")\n",
    "    a = float(input(\"Enter coefficient A: \"))\n",
    "    b = float(input(\"Enter coefficient B: \"))\n",
    "    c = float(input(\"Enter coefficient C: \"))\n",
    "\n",
    "    if a == 0:\n",
    "        print(\"this is not a quadratic equation\")\n",
    "        return\n",
    "\n",
    "    #using the quadratic formula\n",
    "    discriminant = b**2 - 4*a*c\n",
    "\n",
    "    if discriminant > 0:\n",
    "        root1 = (-b + np.sqrt(discriminant)) / (2*a)\n",
    "        root2 = (-b - np.sqrt(discriminant)) / (2*a)\n",
    "        print(f\"Roots: {root1}, {root2}\")\n",
    "    elif discriminant == 0:\n",
    "        root = -b / (2*a)\n",
    "        print(f\"Root: {root4}\")\n",
    "    else:\n",
    "        real = -b / (2*a)\n",
    "        imaginary = np.sqrt(abs(discriminant)) / (2*a)\n",
    "        print(f\"Complex Roots: {real} ± {imaginary}i\")\n",
    "\n",
    "def solve_cubic():\n",
    "    print(\"\\nCubic Equation: Ax³ + Bx² + Cx + D = 0\")\n",
    "    a = float(input(\"Enter coefficient A: \"))\n",
    "    b = float(input(\"Enter coefficient B: \"))\n",
    "    c = float(input(\"Enter coefficient C: \"))\n",
    "    d = float(input(\"Enter coefficient D: \"))\n",
    "\n",
    "    if a == 0:\n",
    "        print(\"this is not a cubic equation\")\n",
    "        return\n",
    "        \n",
    "    roots = np.roots([a, b, c, d])\n",
    "    print(\"Roots:\", roots)\n",
    "\n",
    "def solve_quartic():\n",
    "    print(\"\\nQuartic Equation: Ax⁴ + Bx³ + Cx² + Dx + E = 0\")\n",
    "    a = float(input(\"Enter coefficient A: \"))\n",
    "    b = float(input(\"Enter coefficient B: \"))\n",
    "    c = float(input(\"Enter coefficient C: \"))\n",
    "    d = float(input(\"Enter coefficient D: \"))\n",
    "    e = float(input(\"Enter coefficient E: \"))\n",
    "\n",
    "    if a == 0:\n",
    "        print(\"this is not a quartic equation\")\n",
    "        return\n",
    "\n",
    "    roots = np.roots([a, b, c, d, e])\n",
    "    print(\"Roots:\", roots)\n",
    "\n",
    "while True:\n",
    "    print(\"1. Solve Quadratic Equation\")\n",
    "    print(\"2. Solve Cubic Equation\")\n",
    "    print(\"3. Solve Quartic Equation\")\n",
    "    print(\"4. Exit\")\n",
    "\n",
    "    choice = input(\"Choose an option (1-4): \")\n",
    "\n",
    "    if choice == '1':\n",
    "        solve_quadratic()\n",
    "    elif choice == '2':\n",
    "        solve_cubic()\n",
    "    elif choice == '3':\n",
    "        solve_quartic()\n",
    "    elif choice == '4':\n",
    "        print(\"Bye bye!\")\n",
    "        break\n",
    "    else:\n",
    "        print(\"Invalid choice, please try again.\")\n"
   ]
  },
  {
   "cell_type": "code",
   "execution_count": null,
   "id": "002d8503-9540-463b-b666-58459e1618b0",
   "metadata": {},
   "outputs": [],
   "source": []
  }
 ],
 "metadata": {
  "kernelspec": {
   "display_name": "Python [conda env:base] *",
   "language": "python",
   "name": "conda-base-py"
  },
  "language_info": {
   "codemirror_mode": {
    "name": "ipython",
    "version": 3
   },
   "file_extension": ".py",
   "mimetype": "text/x-python",
   "name": "python",
   "nbconvert_exporter": "python",
   "pygments_lexer": "ipython3",
   "version": "3.12.7"
  }
 },
 "nbformat": 4,
 "nbformat_minor": 5
}
