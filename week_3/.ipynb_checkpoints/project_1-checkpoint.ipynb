{
 "cells": [
  {
   "cell_type": "code",
   "execution_count": 5,
   "id": "c1fd311d-8d0d-462f-81f4-103e842802ec",
   "metadata": {},
   "outputs": [
    {
     "name": "stdout",
     "output_type": "stream",
     "text": [
      "Name       Age   Height  Score\n",
      "-----------------------------------\n",
      "Evelyn     17    5.5     80   \n",
      "Jessica    16    6.0     85   \n",
      "Somto      17    5.4     70   \n",
      "Edith      18    5.9     60   \n",
      "Liza       16    5.6     76   \n",
      "Madonna    18    5.5     87   \n",
      "Waje       17    5.6     95   \n",
      "Tola       20    6.1     50   \n",
      "Aisha      19    6.0     49   \n",
      "Latifa     17    5.7     49   \n",
      "Chinedu    19    5.7     74   \n",
      "Liam       16    5.9     87   \n",
      "Wale       18    5.8     75   \n",
      "Gbenga     17    6.1     68   \n",
      "Abiola     20    5.9     66   \n",
      "Kola       19    5.5     78   \n",
      "Kunle      16    5.6     87   \n",
      "George     18    5.1     98   \n",
      "Thomas     17    5.4     54   \n",
      "Wesley     19    5.8     60   \n"
     ]
    }
   ],
   "source": [
    "def display_table():\n",
    "    students = [\n",
    "        (\"Evelyn\", 17, 5.5, 80), (\"Jessica\", 16, 6.0, 85), (\"Somto\", 17, 5.4, 70),\n",
    "        (\"Edith\", 18, 5.9, 60), (\"Liza\", 16, 5.6, 76), (\"Madonna\", 18, 5.5, 87),\n",
    "        (\"Waje\", 17, 5.6, 95), (\"Tola\", 20, 6.1, 50), (\"Aisha\", 19, 6.0, 49), (\"Latifa\", 17, 5.7, 49),\n",
    "        (\"Chinedu\", 19, 5.7, 74), (\"Liam\", 16, 5.9, 87), (\"Wale\", 18, 5.8, 75),\n",
    "        (\"Gbenga\", 17, 6.1, 68), (\"Abiola\", 20, 5.9, 66), (\"Kola\", 19, 5.5, 78),\n",
    "        (\"Kunle\", 16, 5.6, 87), (\"George\", 18, 5.1, 98), (\"Thomas\", 17, 5.4, 54), (\"Wesley\", 19, 5.8, 60)\n",
    "    ]\n",
    "    \n",
    "    print(\"{:<10} {:<5} {:<7} {:<5}\".format(\"Name\", \"Age\", \"Height\", \"Score\"))\n",
    "    print(\"-\" * 35)\n",
    "    for student in students:\n",
    "        print(\"{:<10} {:<5} {:<7} {:<5}\".format(student[0], student[1], student[2], student[3]))\n",
    "\n",
    "display_table()\n"
   ]
  },
  {
   "cell_type": "code",
   "execution_count": null,
   "id": "7cb41e98-17f9-49ed-ae30-19ba5e0a0836",
   "metadata": {},
   "outputs": [],
   "source": []
  }
 ],
 "metadata": {
  "kernelspec": {
   "display_name": "Python [conda env:base] *",
   "language": "python",
   "name": "conda-base-py"
  },
  "language_info": {
   "codemirror_mode": {
    "name": "ipython",
    "version": 3
   },
   "file_extension": ".py",
   "mimetype": "text/x-python",
   "name": "python",
   "nbconvert_exporter": "python",
   "pygments_lexer": "ipython3",
   "version": "3.12.7"
  }
 },
 "nbformat": 4,
 "nbformat_minor": 5
}
