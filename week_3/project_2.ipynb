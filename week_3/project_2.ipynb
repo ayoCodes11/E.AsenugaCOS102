{
 "cells": [
  {
   "cell_type": "code",
   "execution_count": 30,
   "id": "ac273d9c-8d13-49a0-b6cd-816ad1097104",
   "metadata": {},
   "outputs": [
    {
     "name": "stdin",
     "output_type": "stream",
     "text": [
      "How many years of experience do you have? 26\n",
      "How old are you? 55\n"
     ]
    },
    {
     "name": "stdout",
     "output_type": "stream",
     "text": [
      "Yout Annual Tax Revenue (ATR) is : N5,600,000.\n"
     ]
    }
   ],
   "source": [
    "experience = int(input(\"How many years of experience do you have?\"))\n",
    "age = int(input(\"How old are you?\"))\n",
    "\n",
    "if (experience > 25 and age >= 55):\n",
    "    print(\"Yout Annual Tax Revenue (ATR) is : N5,600,000.\")\n",
    "elif (experience > 20 and age >= 45):\n",
    "    print(\"Yout Annual Tax Revenue (ATR) is : N4,480,000.\")\n",
    "elif (experience > 10 and age >= 35):\n",
    "    print(\"Yout Annual Tax Revenue (ATR) is : N1,500,000.\")\n",
    "else:\n",
    "    print(\"Yout Annual Tax Revenue (ATR) is : N550,000.\")\n",
    "    \n",
    "\n"
   ]
  },
  {
   "cell_type": "code",
   "execution_count": null,
   "id": "43570deb-c0fd-443e-90f7-11b9faef89ec",
   "metadata": {},
   "outputs": [],
   "source": []
  }
 ],
 "metadata": {
  "kernelspec": {
   "display_name": "Python [conda env:base] *",
   "language": "python",
   "name": "conda-base-py"
  },
  "language_info": {
   "codemirror_mode": {
    "name": "ipython",
    "version": 3
   },
   "file_extension": ".py",
   "mimetype": "text/x-python",
   "name": "python",
   "nbconvert_exporter": "python",
   "pygments_lexer": "ipython3",
   "version": "3.12.7"
  }
 },
 "nbformat": 4,
 "nbformat_minor": 5
}
