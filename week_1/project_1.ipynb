{
 "cells": [
  {
   "cell_type": "code",
   "execution_count": 3,
   "id": "db36a658-a0ef-4938-885a-7ba536d4dbac",
   "metadata": {},
   "outputs": [
    {
     "name": "stdout",
     "output_type": "stream",
     "text": [
      "Choose the calculation:\n",
      "1. Simple Interest\n",
      "2. Compound Interest\n",
      "3. Annuity Plan\n"
     ]
    },
    {
     "name": "stdin",
     "output_type": "stream",
     "text": [
      "Enter your choice (1/2/3):  1\n",
      "Enter Principal Amount:  1\n",
      "Enter Annual Interest Rate (%):  1\n",
      "Enter Time in Years:  1\n"
     ]
    },
    {
     "name": "stdout",
     "output_type": "stream",
     "text": [
      "Simple Interest Amount: 1.01\n"
     ]
    }
   ],
   "source": [
    "print(\"Choose the calculation:\")\n",
    "print(\"1. Simple Interest\")\n",
    "print(\"2. Compound Interest\")\n",
    "print(\"3. Annuity Plan\")\n",
    "\n",
    "choice = int(input(\"Enter your choice (1/2/3): \"))\n",
    "\n",
    "if choice == 1:\n",
    "    P = float(input(\"Enter Principal Amount: \"))\n",
    "    R = float(input(\"Enter Annual Interest Rate (%): \"))\n",
    "    T = float(input(\"Enter Time in Years: \"))\n",
    "    A = P * (1 + (R / 100) * T)\n",
    "    print(\"Simple Interest Amount:\", round(A, 2))\n",
    "elif choice == 2:\n",
    "    P = float(input(\"Enter Principal Amount: \"))\n",
    "    R = float(input(\"Enter Annual Interest Rate (decimal form): \"))\n",
    "    n = int(input(\"Enter Number of Times Interest is Compounded Per Year: \"))\n",
    "    t = float(input(\"Enter Time in Years: \"))\n",
    "    A = P * (1 + (R / n))**(n * t)\n",
    "    print(\"Compound Interest Amount:\", round(A, 2))\n",
    "elif choice == 3:\n",
    "    PMT = float(input(\"Enter Payment Per Period: \"))\n",
    "    R = float(input(\"Enter Annual Interest Rate (decimal form): \"))\n",
    "    n = int(input(\"Enter Number of Payments Per Year: \"))\n",
    "    t = float(input(\"Enter Number of Years: \"))\n",
    "    A = PMT * (((1 + (R / n))**(n * t) - 1) / (R / n))\n",
    "    print(\"Annuity Plan Total Value:\", round(A, 2))\n",
    "else:\n",
    "    print(\"Invalid choice! Please select 1, 2, or 3.\")"
   ]
  },
  {
   "cell_type": "code",
   "execution_count": null,
   "id": "073fcc7c-0941-4c28-9500-01a345c4e703",
   "metadata": {},
   "outputs": [],
   "source": []
  }
 ],
 "metadata": {
  "kernelspec": {
   "display_name": "Python [conda env:base] *",
   "language": "python",
   "name": "conda-base-py"
  },
  "language_info": {
   "codemirror_mode": {
    "name": "ipython",
    "version": 3
   },
   "file_extension": ".py",
   "mimetype": "text/x-python",
   "name": "python",
   "nbconvert_exporter": "python",
   "pygments_lexer": "ipython3",
   "version": "3.12.7"
  }
 },
 "nbformat": 4,
 "nbformat_minor": 5
}
