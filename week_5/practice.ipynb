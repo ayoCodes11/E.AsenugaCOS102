{
 "cells": [
  {
   "cell_type": "code",
   "execution_count": 25,
   "id": "32bbf57d-7181-4997-ab29-7bd1a0b41d00",
   "metadata": {},
   "outputs": [],
   "source": [
    "import tkinter as tk\n",
    "\n",
    "def button_click():\n",
    "    msgbox.showinfo(\"Info\", \"Welcome to COS 102 GUI App!\\n\")\n",
    "\n",
    "    result = msgbox.askeyno(\"Confirmation\", \"Do you want to continue?\")\n",
    "\n",
    "root = tk.Tk()\n",
    "root.title(\"Home Page\")\n",
    "root.geometry(\"300x100\")\n",
    "\n",
    "label = tk.Label(root, text = \"Hello Friend \\n\")\n",
    "label.pack()\n",
    "\n",
    "button = tk.Button(root, text=\"Click Me!\", command=button_click)\n",
    "button.pack()\n",
    "\n",
    "button.config(fg=\"red\", bg=\"yellow\")\n",
    "\n",
    "root.mainloop()"
   ]
  },
  {
   "cell_type": "code",
   "execution_count": 40,
   "id": "8c6f83b3-cbca-403b-99df-3872a5baa438",
   "metadata": {},
   "outputs": [],
   "source": [
    "import tkinter as tk\n",
    "from tkinter import messagebox\n",
    "from PIL import Image, ImageTk\n",
    "\n",
    "def welcomeMessage(username):\n",
    "    window = tk.Toplevel(root)\n",
    "    window.title(\"Admin Box\")\n",
    "    window.geometry(\"500x200\")\n",
    "\n",
    "    label_1 = tk.Label(window, text=f\"Welcome {username}\\n\")\n",
    "    label_1.pack()\n",
    "    label_2 = tk.Label(window, text=\"This is Python GUI with Tkinter\")\n",
    "    label_2.pack()\n",
    "\n",
    "    root.mainloop()\n",
    "\n",
    "def submit():\n",
    "    username = username_entry.get()\n",
    "    password = password_entry.get()\n",
    "\n",
    "    if username == \"Emmanuel\" and password == \"cos102\":\n",
    "        welcomeMessage(username)\n",
    "    else:\n",
    "        message.showerror(\"Login\", \"Invalid username or password\")\n",
    "\n",
    "root = tk.Tk()\n",
    "root.title(\"Login Form\")\n",
    "root.geometry(\"500x200\")\n",
    "\n",
    "username_label = tk.Label(root, text=\"Username:\")\n",
    "username_label.pack()\n",
    "username_entry = tk.Entry(root)\n",
    "username_entry.pack()\n",
    "\n",
    "password_label = tk.Label(root, text=\"Password:\")\n",
    "password_label.pack()\n",
    "password_entry = tk.Entry(root, show=\"*\")\n",
    "password_entry.pack()\n",
    "\n",
    "submit_button = tk.Button(root, text=\"Submit\", command=submit)\n",
    "submit_button.pack()\n",
    "submit_button.config(fg=\"white\", bg=\"green\")\n",
    "\n",
    "root.mainloop()"
   ]
  },
  {
   "cell_type": "code",
   "execution_count": null,
   "id": "8d8b0350-2173-42b8-be53-cb7be3df1915",
   "metadata": {},
   "outputs": [],
   "source": []
  }
 ],
 "metadata": {
  "kernelspec": {
   "display_name": "Python [conda env:base] *",
   "language": "python",
   "name": "conda-base-py"
  },
  "language_info": {
   "codemirror_mode": {
    "name": "ipython",
    "version": 3
   },
   "file_extension": ".py",
   "mimetype": "text/x-python",
   "name": "python",
   "nbconvert_exporter": "python",
   "pygments_lexer": "ipython3",
   "version": "3.12.7"
  }
 },
 "nbformat": 4,
 "nbformat_minor": 5
}
