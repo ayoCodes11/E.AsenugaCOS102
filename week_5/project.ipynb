{
 "cells": [
  {
   "cell_type": "code",
   "execution_count": 3,
   "id": "dd00f3f6-fbae-41ba-a9ec-3159a6592cde",
   "metadata": {},
   "outputs": [],
   "source": [
    "import tkinter as tk\n",
    "from tkinter import messagebox\n",
    "from PIL import Image, ImageTk\n",
    "import pandas as pd\n",
    "\n",
    "data = pd.read_csv(\"GIG-logistics.csv\")\n",
    "\n",
    "def welcomeMessage(name, department):\n",
    "    window = tk.Toplevel(root)\n",
    "    window.title(\"Welcome Box\")\n",
    "    window.geometry(\"500x200\")\n",
    "\n",
    "    tk.Label(window, text=f\"Welcome {name}\\n\").pack()\n",
    "    tk.Label(window, text=f\"You are part of the {department} department.\\n\").pack()\n",
    "\n",
    "    root.mainloop()\n",
    "\n",
    "def submit():\n",
    "    name = name_entry.get()\n",
    "    department = department_entry.get()\n",
    "    \n",
    "    match = data[(data['Name'].str.lower() == name.lower()) & \n",
    "            (data['Department'].str.lower() == department.lower())]\n",
    "\n",
    "    if not match.empty:\n",
    "        welcomeMessage(name, department)\n",
    "    else:\n",
    "        messagebox.showerror(\"Error\",\"This employee does not exist. Please try again.\")\n",
    "\n",
    "root = tk.Tk()\n",
    "root.title(\"Login Form\")\n",
    "root.geometry(\"500x200\")\n",
    "\n",
    "tk.Label(root, text=\"Full Name:\").pack()\n",
    "name_entry = tk.Entry(root)\n",
    "name_entry.pack()\n",
    "\n",
    "tk.Label(root, text=\"Department:\").pack()\n",
    "department_entry = tk.Entry(root)\n",
    "department_entry.pack()\n",
    "\n",
    "submit_button = tk.Button(root, text=\"Submit\", command=submit, fg=\"white\",bg=\"green\")\n",
    "submit_button.pack()\n",
    "\n",
    "root.mainloop()"
   ]
  },
  {
   "cell_type": "code",
   "execution_count": null,
   "id": "5698a3be-8494-4e4b-ad0e-b439935473e7",
   "metadata": {},
   "outputs": [],
   "source": []
  }
 ],
 "metadata": {
  "kernelspec": {
   "display_name": "Python [conda env:base] *",
   "language": "python",
   "name": "conda-base-py"
  },
  "language_info": {
   "codemirror_mode": {
    "name": "ipython",
    "version": 3
   },
   "file_extension": ".py",
   "mimetype": "text/x-python",
   "name": "python",
   "nbconvert_exporter": "python",
   "pygments_lexer": "ipython3",
   "version": "3.12.7"
  }
 },
 "nbformat": 4,
 "nbformat_minor": 5
}
