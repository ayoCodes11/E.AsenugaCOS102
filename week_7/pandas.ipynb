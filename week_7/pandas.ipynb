{
 "cells": [
  {
   "cell_type": "markdown",
   "metadata": {},
   "source": [
    "# Python | Pandas DataFrame"
   ]
  },
  {
   "cell_type": "markdown",
   "metadata": {},
   "source": [
    "### What is Pandas?"
   ]
  },
  {
   "cell_type": "markdown",
   "metadata": {},
   "source": [
    "<b>pandas</b> is a software library written for the Python programming language for data manipulation and analysis. In particular, it offers data structures and operations for manipulating numerical tables and time series. "
   ]
  },
  {
   "cell_type": "markdown",
   "metadata": {},
   "source": [
    "### What is a Pandas DataFrame?"
   ]
  },
  {
   "cell_type": "markdown",
   "metadata": {},
   "source": [
    "<b>Pandas DataFrame</b> is two-dimensional size-mutable, potentially heterogeneous tabular data structure with labeled axes (rows and columns). \n",
    "\n",
    "A Data frame is a two-dimensional data structure, i.e., data is aligned in a tabular fashion in rows and columns. \n",
    "\n",
    "Pandas DataFrame consists of three principal components, the data, rows, and columns."
   ]
  },
  {
   "cell_type": "markdown",
   "metadata": {},
   "source": [
    "<img src=\"images/pandas.jpg\">"
   ]
  },
  {
   "cell_type": "markdown",
   "metadata": {},
   "source": [
    "A Pandas DataFrame will be created by loading the datasets from existing storage. Storage can be SQL Database, CSV file, and Excel file. \n",
    "Pandas DataFrame can be created from the lists, dictionary, and from a list of dictionary etc.\n",
    "\n",
    "Dataframe can be created in different ways here are some ways by which we create a dataframe:\n"
   ]
  },
  {
   "cell_type": "markdown",
   "metadata": {
    "jp-MarkdownHeadingCollapsed": true
   },
   "source": [
    "### Creating a dataframe using List:"
   ]
  },
  {
   "cell_type": "code",
   "execution_count": null,
   "metadata": {},
   "outputs": [],
   "source": [
    "# import pandas as pd\n",
    "import pandas as pd\n",
    " \n",
    "# list of strings\n",
    "lyst = ['CSC', '102', 'is', 'the', 'best', 'course', 'ever']\n",
    " \n",
    "# Calling DataFrame constructor on list\n",
    "df = pd.DataFrame(lyst)\n",
    "\n",
    "# Print the output.\n",
    "print(df)"
   ]
  },
  {
   "cell_type": "markdown",
   "metadata": {},
   "source": [
    "### Creating a dataframe using dict of narray/lists:"
   ]
  },
  {
   "cell_type": "code",
   "execution_count": null,
   "metadata": {},
   "outputs": [],
   "source": [
    "import pandas as pd\n",
    " \n",
    "# intialise data of lists.\n",
    "data = {'Name':['Angela', 'Precious', 'Luis', 'Ade'],\n",
    "        'Age':[20, 21, 19, 18,20]}\n",
    " \n",
    "# Create DataFrame\n",
    "df = pd.DataFrame(data)\n",
    " \n",
    "# Print the output.\n",
    "print(df)"
   ]
  },
  {
   "cell_type": "markdown",
   "metadata": {},
   "source": [
    "### Column Selection:"
   ]
  },
  {
   "cell_type": "code",
   "execution_count": null,
   "metadata": {},
   "outputs": [],
   "source": [
    "# Import pandas package\n",
    "import pandas as pd\n",
    " \n",
    "# Define a dictionary containing employee data\n",
    "data = {'Name':['Clem', 'Prince', 'Edward', 'Adele'],\n",
    "        'Age':[27, 24, 22, 32],\n",
    "        'Address':['Abuja', 'Kano', 'Minna', 'Lagos'],\n",
    "        'Qualification':['Msc', 'MA', 'MCA', 'Phd']}\n",
    " \n",
    "# Convert the dictionary into DataFrame \n",
    "df = pd.DataFrame(data)\n",
    " \n",
    "# select two columns\n",
    "df[['Name', 'Qualification']]\n"
   ]
  },
  {
   "cell_type": "markdown",
   "metadata": {
    "jp-MarkdownHeadingCollapsed": true
   },
   "source": [
    "### Row Selection:\n",
    "Pandas provide a unique method to retrieve rows from a Data frame.<br>\n",
    "<i><font color=\"green\">DataFrame.iloc[]</font></i> method is used to retrieve rows from Pandas DataFrame.<br>"
   ]
  },
  {
   "cell_type": "code",
   "execution_count": 25,
   "metadata": {},
   "outputs": [
    {
     "data": {
      "text/plain": [
       "Name              Oyin\n",
       "Age                 27\n",
       "Address          Asaba\n",
       "Qualification      Msc\n",
       "Name: 0, dtype: object"
      ]
     },
     "execution_count": 25,
     "metadata": {},
     "output_type": "execute_result"
    }
   ],
   "source": [
    "import pandas as pd\n",
    " \n",
    "# Define a dictionary containing employee data\n",
    "data = {'Name':['Oyin', 'Mary', 'David', 'Bola'],\n",
    "        'Age':[27, 24, 22, 32],\n",
    "        'Address':['Asaba', 'Maiduguri', 'Onitsha', 'Kwara'],\n",
    "        'Qualification':['Msc', 'MA', 'MCA', 'Phd']}\n",
    " \n",
    "# Convert the dictionary into DataFrame \n",
    "df = pd.DataFrame(data)\n",
    " \n",
    "# select first row\n",
    "df.iloc[0]"
   ]
  },
  {
   "cell_type": "markdown",
   "metadata": {
    "jp-MarkdownHeadingCollapsed": true
   },
   "source": [
    "### Read from a file:"
   ]
  },
  {
   "cell_type": "code",
   "execution_count": 5,
   "metadata": {},
   "outputs": [
    {
     "name": "stdout",
     "output_type": "stream",
     "text": [
      "   Unnamed: 0     name  degree  score\n",
      "0           0     Abel     MBA     90\n",
      "1           1    Kamsi     BCA     40\n",
      "2           2    Oyode  M.Tech     80\n",
      "3           3  Chinelo     MBA     98\n"
     ]
    }
   ],
   "source": [
    "# importing pandas package\n",
    "import pandas as pd\n",
    " \n",
    "# making data frame from csv file\n",
    "data = pd.read_csv(\"record.csv\")\n",
    "\n",
    "# print excel\n",
    "print(data)"
   ]
  },
  {
   "cell_type": "markdown",
   "metadata": {},
   "source": [
    "### Select first row from file"
   ]
  },
  {
   "cell_type": "code",
   "execution_count": 17,
   "metadata": {},
   "outputs": [
    {
     "name": "stdout",
     "output_type": "stream",
     "text": [
      "Unnamed: 0       0\n",
      "name          Abel\n",
      "degree         MBA\n",
      "score           90\n",
      "Name: 0, dtype: object\n"
     ]
    }
   ],
   "source": [
    "# importing pandas package\n",
    "import pandas as pd\n",
    " \n",
    "# making data frame from csv file\n",
    "data = pd.read_csv(\"record.csv\")\n",
    "\n",
    "df=data.iloc[0]\n",
    "\n",
    "# print excel\n",
    "print(df)"
   ]
  },
  {
   "cell_type": "markdown",
   "metadata": {},
   "source": [
    "### Selecting Row with Title Header"
   ]
  },
  {
   "cell_type": "code",
   "execution_count": 17,
   "metadata": {},
   "outputs": [
    {
     "name": "stdout",
     "output_type": "stream",
     "text": [
      "   Unnamed: 0  name degree  score\n",
      "0           0  Abel    MBA     90\n"
     ]
    }
   ],
   "source": [
    "# importing pandas package\n",
    "import pandas as pd\n",
    " \n",
    "# making data frame from csv file\n",
    "data = pd.read_csv(\"record.csv\")\n",
    "\n",
    "df=data.head(1)\n",
    "\n",
    "# print excel\n",
    "print(df)"
   ]
  },
  {
   "cell_type": "markdown",
   "metadata": {
    "jp-MarkdownHeadingCollapsed": true
   },
   "source": [
    "### Looping over rows and columns\n",
    "A loop is a general term for taking each item of something, one after another.<br> Pandas DataFrame consists of rows and columns so, in order to loop over dataframe, we have to iterate a dataframe like a dictionary.<br><br>\n",
    "In order to iterate over rows, we can use two functions <i><font color=\"green\">iteritems(), iterrows() </font></i>. These two functions will help in iteration over rows."
   ]
  },
  {
   "cell_type": "code",
   "execution_count": 19,
   "metadata": {},
   "outputs": [
    {
     "name": "stdout",
     "output_type": "stream",
     "text": [
      "0 name      Abdul\n",
      "degree      MBA\n",
      "score        90\n",
      "Name: 0, dtype: object\n",
      "          name  degree  score\n",
      "0        Abdul     MBA     90\n",
      "1  Chukwuemeka     BCA     40\n",
      "2         Seyi  M.Tech     80\n",
      "3         Matt     MBA     98\n",
      "1 name      Chukwuemeka\n",
      "degree            BCA\n",
      "score              40\n",
      "Name: 1, dtype: object\n",
      "          name  degree  score\n",
      "0        Abdul     MBA     90\n",
      "1  Chukwuemeka     BCA     40\n",
      "2         Seyi  M.Tech     80\n",
      "3         Matt     MBA     98\n",
      "2 name        Seyi\n",
      "degree    M.Tech\n",
      "score         80\n",
      "Name: 2, dtype: object\n",
      "          name  degree  score\n",
      "0        Abdul     MBA     90\n",
      "1  Chukwuemeka     BCA     40\n",
      "2         Seyi  M.Tech     80\n",
      "3         Matt     MBA     98\n",
      "3 name      Matt\n",
      "degree     MBA\n",
      "score       98\n",
      "Name: 3, dtype: object\n",
      "          name  degree  score\n",
      "0        Abdul     MBA     90\n",
      "1  Chukwuemeka     BCA     40\n",
      "2         Seyi  M.Tech     80\n",
      "3         Matt     MBA     98\n"
     ]
    }
   ],
   "source": [
    "# importing pandas as pd\n",
    "import pandas as pd\n",
    "  \n",
    "# dictionary of lists\n",
    "dict = {'name':[\"Abdul\", \"Chukwuemeka\", \"Seyi\", \"Matt\"],\n",
    "        'degree': [\"MBA\", \"BCA\", \"M.Tech\", \"MBA\"],\n",
    "        'score':[90, 40, 80, 98]}\n",
    " \n",
    "# creating a dataframe from a dictionary \n",
    "df = pd.DataFrame(dict)\n",
    "\n",
    "# iterating over rows using iterrows() function \n",
    "for i, j in df.iterrows():\n",
    "    print(i, j)\n",
    "    print(df)"
   ]
  },
  {
   "cell_type": "markdown",
   "metadata": {
    "jp-MarkdownHeadingCollapsed": true
   },
   "source": [
    "### Looping over Columns :\n",
    "In order to loop over columns, we need to create a list of dataframe columns and then iterating through that list to pull out the dataframe columns."
   ]
  },
  {
   "cell_type": "code",
   "execution_count": 21,
   "metadata": {},
   "outputs": [
    {
     "name": "stdout",
     "output_type": "stream",
     "text": [
      "Ugochi\n",
      "M.Tech\n",
      "80\n"
     ]
    }
   ],
   "source": [
    "# importing pandas as pd\n",
    "import pandas as pd\n",
    "   \n",
    "# dictionary of lists\n",
    "dict = {'name':[\"Bello\", \"Kamara\", \"Ugochi\", \"David\"],\n",
    "        'degree': [\"MBA\", \"BCA\", \"M.Tech\", \"MBA\"],\n",
    "        'score':[90, 40, 80, 98]}\n",
    "  \n",
    "# creating a dataframe from a dictionary \n",
    "df = pd.DataFrame(dict)\n",
    "\n",
    "# creating a list of dataframe columns\n",
    "columns = list(df)\n",
    " \n",
    "for i in columns:\n",
    " \n",
    "    # printing the third element of the column\n",
    "    print (df[i][2])"
   ]
  },
  {
   "cell_type": "markdown",
   "metadata": {
    "jp-MarkdownHeadingCollapsed": true
   },
   "source": [
    "### Saving a DataFrame as CSV file"
   ]
  },
  {
   "cell_type": "code",
   "execution_count": 23,
   "metadata": {},
   "outputs": [],
   "source": [
    "# importing pandas as pd\n",
    "import pandas as pd\n",
    "   \n",
    "# dictionary of lists\n",
    "record = {'name':[\"Abel\", \"Kamsi\", \"Oyode\", \"Chinelo\"],\n",
    "        'degree': [\"MBA\", \"BCA\", \"M.Tech\", \"MBA\"],\n",
    "        'score':[90, 40, 80, 98]}\n",
    "  \n",
    "# creating a dataframe from a dictionary \n",
    "df = pd.DataFrame(record)\n",
    "\n",
    "# saving the dataframe\n",
    "df.to_csv('record.csv')"
   ]
  },
  {
   "cell_type": "markdown",
   "metadata": {},
   "source": [
    "## Class Project I\n"
   ]
  },
  {
   "cell_type": "markdown",
   "metadata": {
    "jp-MarkdownHeadingCollapsed": true
   },
   "source": [
    "####  Go to www.kaggle.com\n",
    "\n",
    "Kaggle allows users to find and publish data sets, explore and build models in a web-based data-science environment, work with other data scientists and machine learning engineers, and enter competitions to solve data science challenges.\n",
    "\n",
    "#### Download the following dataset:\n",
    "1. Top Apps in Google Play\n",
    "2. Cryptocurrency Predict Artificial Intelligence V3\n",
    "3. Programming Languages Trend Over Time\n",
    "\n",
    "#### Clue\n",
    "You can signin with either Google, facebook or Linkedin account\n",
    "\n",
    "#### Task\n",
    "Display the first 7 rows of each dataset<br>\n",
    "Select the first 3 colums of each dataset<br>\n",
    "Display only one row and header of each dataset\n"
   ]
  },
  {
   "cell_type": "code",
   "execution_count": 35,
   "metadata": {},
   "outputs": [
    {
     "name": "stdout",
     "output_type": "stream",
     "text": [
      "For Dataset 1\n",
      "   Unnamed: 0                          App Name  \\\n",
      "0           1              Google Play services   \n",
      "1           2                           YouTube   \n",
      "2           3                            Google   \n",
      "3           4  Google Maps - Navigate & Explore   \n",
      "4           5             Google Text-to-Speech   \n",
      "5           6      Google Chrome: Fast & Secure   \n",
      "6           7                             Gmail   \n",
      "\n",
      "                                    App Id                 Category  \\\n",
      "0                   com.google.android.gms                    Tools   \n",
      "1               com.google.android.youtube  Video Players & Editors   \n",
      "2  com.google.android.googlequicksearchbox                    Tools   \n",
      "3             com.google.android.apps.maps           Travel & Local   \n",
      "4                   com.google.android.tts                    Tools   \n",
      "5                       com.android.chrome            Communication   \n",
      "6                    com.google.android.gm            Communication   \n",
      "\n",
      "  Developer Id                                  Developer Website  \\\n",
      "0   Google LLC  https://developers.google.com/android/google-p...   \n",
      "1   Google LLC  https://support.google.com/youtube/topic/24225...   \n",
      "2   Google LLC               https://www.google.com/search/about/   \n",
      "3   Google LLC                      http://maps.google.com/about/   \n",
      "4   Google LLC                             http://www.google.com/   \n",
      "5   Google LLC               http://www.google.com/chrome/android   \n",
      "6   Google LLC  http://support.google.com/mail/bin/topic.py?hl...   \n",
      "\n",
      "                Developer Email Content Rating  Ad Supported  In App Purchases  \n",
      "0          apps-help@google.com       Everyone         False             False  \n",
      "1  ytandroid-support@google.com           Teen          True             False  \n",
      "2          apps-help@google.com       Everyone          True             False  \n",
      "3          apps-help@google.com       Everyone          True             False  \n",
      "4       tts-feedback@google.com       Everyone         False             False  \n",
      "5          apps-help@google.com       Everyone         False             False  \n",
      "6          apps-help@google.com       Everyone          True             False  \n",
      "   Unnamed: 0              App Name                  App Id Category  \\\n",
      "0           1  Google Play services  com.google.android.gms    Tools   \n",
      "\n",
      "  Developer Id                                  Developer Website  \\\n",
      "0   Google LLC  https://developers.google.com/android/google-p...   \n",
      "\n",
      "        Developer Email Content Rating  Ad Supported  In App Purchases  \n",
      "0  apps-help@google.com       Everyone         False             False  \n",
      "\n",
      "For Dataset 2\n",
      "        Date    Price     Open     High      Low     Vol. Change %\n",
      "0  25-Mar-22  44331.0  44013.0  45112.0  43622.0  494.09M    0.72%\n",
      "1  24-Mar-22  44013.0  42911.0  44251.0  42658.0  491.66M    2.57%\n",
      "2  23-Mar-22  42912.0  42373.0  43027.0  41795.0  433.96M    1.27%\n",
      "3  22-Mar-22  42373.0  41022.0  43327.9  40893.0  537.06M    3.29%\n",
      "4  21-Mar-22  41022.0  41282.0  41532.0  40530.0  406.62M   -0.62%\n",
      "5  20-Mar-22  41276.0  42241.0  42301.0  40922.0  308.45M   -2.27%\n",
      "6  19-Mar-22  42233.0  41768.0  42386.0  41529.6  224.59M    1.11%\n",
      "        Date    Price     Open     High      Low     Vol. Change %\n",
      "0  25-Mar-22  44331.0  44013.0  45112.0  43622.0  494.09M    0.72%\n",
      "\n",
      "For Dataset 3\n",
      "        Week  Python  Java  C++\n",
      "0  4/21/2019      55    55   18\n",
      "1  4/28/2019      52    50   16\n",
      "2   5/5/2019      56    56   17\n",
      "3  5/12/2019      56    61   18\n",
      "4  5/19/2019      57    56   17\n",
      "5  5/26/2019      55    57   17\n",
      "6   6/2/2019      54    58   15\n",
      "        Week  Python  Java  C++\n",
      "0  4/21/2019      55    55   18\n"
     ]
    }
   ],
   "source": [
    "import pandas as pd\n",
    "\n",
    "data1 = pd.read_csv(\"Top-Apps-in-Google-Play.csv\")\n",
    "data2 = pd.read_csv(\"BTC_DATA_V3.0.csv\")\n",
    "data3 = pd.read_csv(\"programming language trend over time.csv\")\n",
    "\n",
    "print(\"For Dataset 1\")\n",
    "di = data1.iloc[0:7]\n",
    "df = pd.DataFrame(data1)\n",
    "dh = data1.head(1)\n",
    "\n",
    "print(di)\n",
    "df[0:3]\n",
    "print(dh)\n",
    "\n",
    "\n",
    "print(\"\\nFor Dataset 2\")\n",
    "di = data2.iloc[0:7]\n",
    "df = pd.DataFrame(data2)\n",
    "dh = data2.head(1)\n",
    "\n",
    "print(di)\n",
    "df[0:3]\n",
    "print(dh)\n",
    "\n",
    "print(\"\\nFor Dataset 3\")\n",
    "di = data3.iloc[0:7]\n",
    "df = pd.DataFrame(data3)\n",
    "dh = data3.head(1)\n",
    "\n",
    "print(di)\n",
    "df[0:3]\n",
    "print(dh)"
   ]
  },
  {
   "cell_type": "markdown",
   "metadata": {},
   "source": [
    "## Class Project II"
   ]
  },
  {
   "cell_type": "markdown",
   "metadata": {},
   "source": [
    "<b>Cadbury Nigeria Plc</b> manufactures and sells branded fast moving consumer goods to the Nigerian market and exports in West Africa. The Company produces intermediate products, such as cocoa butter, liquor, cake and powder. It exports cocoa butter, cake and liquor to international customers, and cocoa powder locally. It operates through three segments: Refreshment Beverages, Confectionery and Intermediate Cocoa Products. The Refreshment Beverages segment includes the manufacture and sale of Bournvita and Hot Chocolate. The Confectionery segment includes the manufacture and sale of Tom Tom and Buttermint. The Intermediate Cocoa Products segment includes the manufacture and sale of cocoa powder, cocoa butter, cocoa liquor and cocoa cake. The Refreshment Beverages' brands include CADBURY BOURNVITA and CADBURY 3-in-1 HOT CHOCOLATE. The Confectionery's brands include TOMTOM CLASSIC, TOMTOM STRAWBERRY and BUTTERMINT. The Intermediate Cocoa Products' brands include COCOA POWDER and COCOA BUTTER.\n",
    "\n",
    "You have been employed as an expert python developer to create a program to document the consumption categories of their products and brands. Using your knowledge of Pandas DataFrames develop the program that saves the list of products (export, segments and brands) in a .csv excel file.<br><br>\n",
    "Hint: save the filename as <font color=\"green\"><i>cadbury_market.csv</i></font>."
   ]
  },
  {
   "cell_type": "code",
   "execution_count": 61,
   "metadata": {},
   "outputs": [],
   "source": [
    "import pandas as pd\n",
    "\n",
    "cadbury = {'Exports':[\"Cocoa butter\", \"Liquor\", \"Cake\", \"Powder\"],\n",
    "            'Segments':[\"Refreshment Beveraages(Bournvita, Hot Chocolate)\", \"Confectioneries(Tom Tom, Buttermint)\",\"Intermediate Cocoa Products(Cocoa Powder, Cocoa Butter, Cocoa Liquor, Cocoa Cake)\", None],\n",
    "            'Brands':[\"Confectionery(Cadbury Bournvita, Cadbury 3-in-1 Hot Chocolate)\", \"Intermediate Cocoa Products(Cocoa Powder, Cocoa Butter)\", None, None]}\n",
    "\n",
    "df = pd.DataFrame(cadbury)\n",
    "\n",
    "df.to_csv('cadbury_market.csv')"
   ]
  }
 ],
 "metadata": {
  "kernelspec": {
   "display_name": "Python [conda env:base] *",
   "language": "python",
   "name": "conda-base-py"
  },
  "language_info": {
   "codemirror_mode": {
    "name": "ipython",
    "version": 3
   },
   "file_extension": ".py",
   "mimetype": "text/x-python",
   "name": "python",
   "nbconvert_exporter": "python",
   "pygments_lexer": "ipython3",
   "version": "3.12.7"
  }
 },
 "nbformat": 4,
 "nbformat_minor": 4
}
